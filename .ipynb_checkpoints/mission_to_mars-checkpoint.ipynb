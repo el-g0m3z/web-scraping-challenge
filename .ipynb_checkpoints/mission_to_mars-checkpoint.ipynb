{
 "cells": [
  {
   "cell_type": "code",
   "execution_count": 4,
   "metadata": {},
   "outputs": [],
   "source": [
    "from bs4 import BeautifulSoup\n",
    "import requests\n",
    "from selenium import webdriver\n",
    "import pymongo\n",
    "import pandas as pd\n",
    "import datetime as dt\n",
    "from pprint import pprint"
   ]
  },
  {
   "cell_type": "code",
   "execution_count": 5,
   "metadata": {},
   "outputs": [],
   "source": [
    "NASA_URL = \"https://mars.nasa.gov/news/\"\n",
    "\n",
    "JPL_IMG_URL_ROOT = \"https://www.jpl.nasa.gov\"\n",
    "JPL_IMG_URL = JPL_IMG_URL_ROOT+\"/spaceimages/?search=&category=Mars\"\n",
    "\n",
    "TWITTER_URL = \"https://twitter.com/marswxreport?lang=en\"\n",
    "\n",
    "FACTS_URL = \"http://space-facts.com/mars/\"\n",
    "\n",
    "ASTRO_URL_ROOT = 'https://astrogeology.usgs.gov'\n",
    "ASTRO_URL = ASTRO_URL_ROOT+\"/search/results?q=hemisphere+enhanced&k1=target&v1=Mars\""
   ]
  },
  {
   "cell_type": "markdown",
   "metadata": {},
   "source": [
    "# NASA Mars News"
   ]
  },
  {
   "cell_type": "code",
   "execution_count": 6,
   "metadata": {},
   "outputs": [],
   "source": [
    "nasa_soup = BeautifulSoup(requests.get(NASA_URL).text, \"html.parser\")\n",
    "\n",
    "title_div = nasa_soup.body.find_all(\"div\", class_=\"slide\")[0]\n",
    "nasa_title = title_div.find_all(\"div\", class_=\"content_title\")[0].a.text.strip()\n",
    "nasa_desc = title_div.find(\"div\", class_=\"rollover_description_inner\").text.strip()"
   ]
  },
  {
   "cell_type": "code",
   "execution_count": 15,
   "metadata": {},
   "outputs": [
    {
     "name": "stdout",
     "output_type": "stream",
     "text": [
      "NASA Prepares for Moon and Mars With New Addition to Its Deep Space Network\n",
      "Robotic spacecraft will be able to communicate with the dish using radio waves and lasers.\n"
     ]
    }
   ],
   "source": [
    "print(nasa_title)\n",
    "print(nasa_desc)"
   ]
  },
  {
   "cell_type": "markdown",
   "metadata": {},
   "source": [
    "# JPL Mars Space Images - Featured Image"
   ]
  },
  {
   "cell_type": "code",
   "execution_count": 17,
   "metadata": {},
   "outputs": [
    {
     "data": {
      "text/plain": [
       "'https://www.jpl.nasa.gov/spaceimages/images/largesize/PIA23431_hires.jpg'"
      ]
     },
     "execution_count": 17,
     "metadata": {},
     "output_type": "execute_result"
    }
   ],
   "source": [
    "jpl_soup = BeautifulSoup(requests.get(JPL_IMG_URL).text, \"html.parser\")\n",
    "\n",
    "image_container = jpl_soup.body.find_all(\"footer\")[0].a\n",
    "large_file_path = (\n",
    "    str(image_container[\"data-fancybox-href\"])\n",
    "    .replace(\"medium\", \"large\")\n",
    "    .replace(\"_ip\", \"_hires\")\n",
    ")\n",
    "featured_image_url = f\"{JPL_IMG_URL_ROOT}{large_file_path}\"\n",
    "featured_image_url"
   ]
  },
  {
   "cell_type": "markdown",
   "metadata": {},
   "source": [
    "# Mars Weather Twitter Tweet"
   ]
  },
  {
   "cell_type": "code",
   "execution_count": 19,
   "metadata": {},
   "outputs": [
    {
     "data": {
      "text/plain": [
       "'InSight sol 450 (2020-03-02) low -93.5ºC (-136.4ºF) high -10.4ºC (13.3ºF)\\nwinds from the SSW at 5.5 m/s (12.4 mph) gusting to 20.6 m/s (46.1 mph)\\npressure at 6.30 hPa'"
      ]
     },
     "execution_count": 19,
     "metadata": {},
     "output_type": "execute_result"
    }
   ],
   "source": [
    "twitter_soup = BeautifulSoup(requests.get(TWITTER_URL).text, \"html.parser\")\n",
    "\n",
    "tweet_text_container = twitter_soup.body.find_all(\n",
    "    \"p\", class_=\"TweetTextSize TweetTextSize--normal js-tweet-text tweet-text\"\n",
    ")\n",
    "\n",
    "mars_weather = \"\"\n",
    "for tweet in tweet_text_container:\n",
    "    if tweet.text.startswith(\"InSight\"):\n",
    "        mars_weather = tweet.text[: tweet.text.find(\"pic.twitter.com\")]\n",
    "        break\n",
    "mars_weather"
   ]
  },
  {
   "cell_type": "markdown",
   "metadata": {},
   "source": [
    "# Mars Facts"
   ]
  },
  {
   "cell_type": "code",
   "execution_count": 20,
   "metadata": {},
   "outputs": [
    {
     "data": {
      "text/plain": [
       "[                      0                              1\n",
       " 0  Equatorial Diameter:                       6,792 km\n",
       " 1       Polar Diameter:                       6,752 km\n",
       " 2                 Mass:  6.39 × 10^23 kg (0.11 Earths)\n",
       " 3                Moons:            2 (Phobos & Deimos)\n",
       " 4       Orbit Distance:       227,943,824 km (1.38 AU)\n",
       " 5         Orbit Period:           687 days (1.9 years)\n",
       " 6  Surface Temperature:                   -87 to -5 °C\n",
       " 7         First Record:              2nd millennium BC\n",
       " 8          Recorded By:           Egyptian astronomers]"
      ]
     },
     "execution_count": 20,
     "metadata": {},
     "output_type": "execute_result"
    }
   ],
   "source": [
    "space_soup = BeautifulSoup(requests.get(FACTS_URL).text, \"html.parser\")\n",
    "\n",
    "mars_table_container = space_soup.body.find_all(\"table\", id=\"tablepress-p-mars-no-2\")[0]\n",
    "mars_info_df = pd.read_html(str(mars_table_container))\n",
    "mars_info_df"
   ]
  },
  {
   "cell_type": "markdown",
   "metadata": {},
   "source": [
    "# Mars Hemispheres"
   ]
  },
  {
   "cell_type": "code",
   "execution_count": 22,
   "metadata": {},
   "outputs": [],
   "source": [
    "driver = webdriver.Firefox()\n",
    "driver.get(ASTRO_URL)\n",
    "driver.implicitly_wait(10)\n",
    "astro_soup = BeautifulSoup(driver.page_source, \"lxml\")\n",
    "driver.close()\n",
    "astro_h = astro_soup.find_all(\"h3\")"
   ]
  },
  {
   "cell_type": "code",
   "execution_count": 24,
   "metadata": {},
   "outputs": [
    {
     "data": {
      "text/plain": [
       "[{'title': 'Cerberus Hemisphere Enhanced',\n",
       "  'url': 'https://astrogeology.usgs.gov/search/map/Mars/Viking/cerberus_enhanced'},\n",
       " {'title': 'Schiaparelli Hemisphere Enhanced',\n",
       "  'url': 'https://astrogeology.usgs.gov/search/map/Mars/Viking/schiaparelli_enhanced'},\n",
       " {'title': 'Syrtis Major Hemisphere Enhanced',\n",
       "  'url': 'https://astrogeology.usgs.gov/search/map/Mars/Viking/syrtis_major_enhanced'},\n",
       " {'title': 'Valles Marineris Hemisphere Enhanced',\n",
       "  'url': 'https://astrogeology.usgs.gov/search/map/Mars/Viking/valles_marineris_enhanced'}]"
      ]
     },
     "execution_count": 24,
     "metadata": {},
     "output_type": "execute_result"
    }
   ],
   "source": [
    "astro_dict = [{\"title\": h.text, \"url\": ASTRO_URL_ROOT + h.parent[\"href\"]} for h in astro_h]\n",
    "astro_dict"
   ]
  },
  {
   "cell_type": "code",
   "execution_count": 26,
   "metadata": {},
   "outputs": [
    {
     "data": {
      "text/plain": [
       "[{'title': 'Cerberus Hemisphere Enhanced',\n",
       "  'url': 'https://astrogeology.usgs.gov/search/map/Mars/Viking/cerberus_enhanced',\n",
       "  'img_url': 'http://astropedia.astrogeology.usgs.gov/download/Mars/Viking/cerberus_enhanced.tif/full.jpg'},\n",
       " {'title': 'Schiaparelli Hemisphere Enhanced',\n",
       "  'url': 'https://astrogeology.usgs.gov/search/map/Mars/Viking/schiaparelli_enhanced',\n",
       "  'img_url': 'http://astropedia.astrogeology.usgs.gov/download/Mars/Viking/schiaparelli_enhanced.tif/full.jpg'},\n",
       " {'title': 'Syrtis Major Hemisphere Enhanced',\n",
       "  'url': 'https://astrogeology.usgs.gov/search/map/Mars/Viking/syrtis_major_enhanced',\n",
       "  'img_url': 'http://astropedia.astrogeology.usgs.gov/download/Mars/Viking/syrtis_major_enhanced.tif/full.jpg'},\n",
       " {'title': 'Valles Marineris Hemisphere Enhanced',\n",
       "  'url': 'https://astrogeology.usgs.gov/search/map/Mars/Viking/valles_marineris_enhanced',\n",
       "  'img_url': 'http://astropedia.astrogeology.usgs.gov/download/Mars/Viking/valles_marineris_enhanced.tif/full.jpg'}]"
      ]
     },
     "execution_count": 26,
     "metadata": {},
     "output_type": "execute_result"
    }
   ],
   "source": [
    "driver = webdriver.Firefox()\n",
    "for h in astro_dict:\n",
    "    driver.get(h[\"url\"])\n",
    "    driver.implicitly_wait(10)\n",
    "    soup = BeautifulSoup(driver.page_source, \"lxml\")\n",
    "    img = soup.find(\"a\", target=\"_blank\")\n",
    "    h.update({\"img_url\": img[\"href\"]})\n",
    "driver.close()\n",
    "astro_dict"
   ]
  },
  {
   "cell_type": "code",
   "execution_count": null,
   "metadata": {},
   "outputs": [],
   "source": []
  }
 ],
 "metadata": {
  "kernelspec": {
   "display_name": "One-Kernel-to-Rule-Them-All",
   "language": "python",
   "name": "python3"
  },
  "language_info": {
   "codemirror_mode": {
    "name": "ipython",
    "version": 3
   },
   "file_extension": ".py",
   "mimetype": "text/x-python",
   "name": "python",
   "nbconvert_exporter": "python",
   "pygments_lexer": "ipython3",
   "version": "3.8.0"
  }
 },
 "nbformat": 4,
 "nbformat_minor": 4
}
